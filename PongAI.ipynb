{
 "cells": [
  {
   "cell_type": "code",
   "execution_count": 1,
   "id": "97e2bd72",
   "metadata": {},
   "outputs": [
    {
     "name": "stdout",
     "output_type": "stream",
     "text": [
      "Collecting pygame\n",
      "  Downloading pygame-2.1.2-cp39-cp39-win_amd64.whl (8.4 MB)\n",
      "Installing collected packages: pygame\n",
      "Successfully installed pygame-2.1.2\n",
      "Note: you may need to restart the kernel to use updated packages.\n"
     ]
    }
   ],
   "source": [
    "pip install pygame"
   ]
  },
  {
   "cell_type": "code",
   "execution_count": 1,
   "id": "ae3c8b26",
   "metadata": {},
   "outputs": [
    {
     "name": "stdout",
     "output_type": "stream",
     "text": [
      "pygame 2.1.2 (SDL 2.0.18, Python 3.9.7)\n",
      "Hello from the pygame community. https://www.pygame.org/contribute.html\n"
     ]
    }
   ],
   "source": [
    "import pygame\n",
    "import random\n",
    "import sys"
   ]
  },
  {
   "cell_type": "code",
   "execution_count": 2,
   "id": "1346ff3d",
   "metadata": {},
   "outputs": [],
   "source": [
    "def deleteRec(screen):\n",
    "    global yrect1, yrect2\n",
    "    pygame.draw.rect(screen, (0,0,0), (15, yrect1, 15, 100), 0)\n",
    "    pygame.draw.rect(screen, (0,0,0), (970, yrect2, 15, 100), 0)"
   ]
  },
  {
   "cell_type": "code",
   "execution_count": 3,
   "id": "0e15c62d",
   "metadata": {},
   "outputs": [],
   "source": [
    "def drawRec(screen):\n",
    "    global yrect1, yrect2\n",
    "    pygame.draw.rect(screen,(255,255,255),(15,yrect1,15,100),0)\n",
    "    pygame.draw.rect(screen, (255, 255, 255), (970, yrect2, 15, 100), 0)"
   ]
  },
  {
   "cell_type": "code",
   "execution_count": 4,
   "id": "845a771b",
   "metadata": {},
   "outputs": [],
   "source": [
    "def moveBall():\n",
    "    global direction, xBall, yBall, yrect1, yrect2, speedBall, paraden\n",
    "    pygame.draw.circle(screen, (0, 0, 0), (xBall, yBall), 15, 3)\n",
    "    if direction[0] == \"r\":\n",
    "        if xBall >=960:\n",
    "            if abs(yBall-(yrect2+50))<=60:\n",
    "                xBall -= speedBall\n",
    "                direction[0] = \"l\"\n",
    "                direction[1] = random.randint(-5,6)\n",
    "                paraden+=1\n",
    "            else:\n",
    "                direction[0]=\"xl\"\n",
    "        else:\n",
    "            xBall+=speedBall\n",
    "    else:\n",
    "        if xBall <= 40:\n",
    "            if abs(yBall - (yrect1 + 50)) <= 60:\n",
    "                xBall += speedBall\n",
    "                direction[0] = \"r\"\n",
    "                direction[1] = random.randint(-5, 6)\n",
    "                paraden+=1\n",
    "            else:\n",
    "                direction[0]=\"xr\"\n",
    "        else:\n",
    "            xBall -= speedBall\n",
    "\n",
    "    if yBall + direction[1] < 55 or yBall + direction[1] > 585:\n",
    "        direction[1] = -direction[1]\n",
    "    else:\n",
    "        yBall += direction[1]\n",
    "    pygame.draw.lines(screen, (0, 255, 0), False, [(500, 40), (500, 600)], 3)\n",
    "    pygame.draw.circle(screen, (255, 0, 0), (xBall, yBall), 15, 3)\n",
    "    return directio"
   ]
  },
  {
   "cell_type": "code",
   "execution_count": 5,
   "id": "d2609b93",
   "metadata": {},
   "outputs": [],
   "source": [
    "def aktualisiere():\n",
    "    global winsL, winsR, speedBall, paraden\n",
    "    pygame.init()\n",
    "    screen = pygame.display.set_mode([x, y])\n",
    "    screen.fill((0, 0, 0))\n",
    "    # Anzeige der Punktzahl\n",
    "    font = pygame.font.Font(None, 32)\n",
    "    txt_surface = font.render(f\"  {winsL}       {winsR}\", True, (0, 0, 255))\n",
    "    screen.blit(txt_surface, (455, 7))\n",
    "    # Aktualisierung der Geschwindigkeit\n",
    "    pygame.draw.lines(screen, (0, 255, 0), False, [(0, 37), (1000, 37)], 3)\n",
    "    pygame.draw.lines(screen, (0, 255, 0), False, [(500, 40), (500, 600)], 3)\n",
    "    txt_surfaceSpeed = fontSpeed.render(f\"Geschwindigkeit: {speedBall}\", True, (255, 255, 0))\n",
    "    screen.blit(txt_surfaceSpeed, (800, 10))\n",
    "    txt_surfaceSpeed = fontSpeed.render(f\"Paraden: {paraden}\", True, (255, 255, 0))\n",
    "    screen.blit(txt_surfaceSpeed, (20, 10))"
   ]
  },
  {
   "cell_type": "code",
   "execution_count": 8,
   "id": "83b260eb",
   "metadata": {},
   "outputs": [],
   "source": [
    "def init():\n",
    "    yrect1 = 55\n",
    "    yrect2 = 485\n",
    "    xBall = int(x / 2)\n",
    "    yBall = int(y / 2)+20\n",
    "\n",
    "    pygame.init()\n",
    "    screen = pygame.display.set_mode([x, y])\n",
    "    screen.fill((0, 0, 0))\n",
    "    speed1 = 0\n",
    "    speed2 = 0\n",
    "    speedBall = 5\n",
    "    rounds = 1\n",
    "    direction = [\"r\", 0]\n",
    "    pygame.draw.lines(screen, (0, 255, 0), False, [(0, 37), (1000, 37)], 3)\n",
    "    pygame.draw.lines(screen, (0, 255, 0), False, [(500, 40), (500, 600)], 3)\n",
    "    pygame.draw.circle(screen, (255, 0, 0), (xBall, yBall), 15, 3)\n",
    "    pygame.draw.rect(screen, (255, 255, 255), (15, yrect1, 15, 100), 0)\n",
    "    pygame.draw.rect(screen, (255, 255, 255), (970, yrect2, 15, 100), 0)"
   ]
  },
  {
   "cell_type": "code",
   "execution_count": 9,
   "id": "292e6d31",
   "metadata": {},
   "outputs": [
    {
     "ename": "NameError",
     "evalue": "name 'screen' is not defined",
     "output_type": "error",
     "traceback": [
      "\u001b[1;31m---------------------------------------------------------------------------\u001b[0m",
      "\u001b[1;31mNameError\u001b[0m                                 Traceback (most recent call last)",
      "\u001b[1;32mC:\\Users\\SAMUEL~1\\AppData\\Local\\Temp/ipykernel_4908/4049114529.py\u001b[0m in \u001b[0;36m<module>\u001b[1;34m\u001b[0m\n\u001b[0;32m     10\u001b[0m     \u001b[0mfont\u001b[0m \u001b[1;33m=\u001b[0m \u001b[0mpygame\u001b[0m\u001b[1;33m.\u001b[0m\u001b[0mfont\u001b[0m\u001b[1;33m.\u001b[0m\u001b[0mFont\u001b[0m\u001b[1;33m(\u001b[0m\u001b[1;32mNone\u001b[0m\u001b[1;33m,\u001b[0m \u001b[1;36m32\u001b[0m\u001b[1;33m)\u001b[0m\u001b[1;33m\u001b[0m\u001b[1;33m\u001b[0m\u001b[0m\n\u001b[0;32m     11\u001b[0m     \u001b[0mtxt_surface\u001b[0m \u001b[1;33m=\u001b[0m \u001b[0mfont\u001b[0m\u001b[1;33m.\u001b[0m\u001b[0mrender\u001b[0m\u001b[1;33m(\u001b[0m\u001b[1;34mf\"  {winsL}       {winsR}\"\u001b[0m\u001b[1;33m,\u001b[0m \u001b[1;32mTrue\u001b[0m\u001b[1;33m,\u001b[0m \u001b[1;33m(\u001b[0m\u001b[1;36m0\u001b[0m\u001b[1;33m,\u001b[0m\u001b[1;36m0\u001b[0m\u001b[1;33m,\u001b[0m\u001b[1;36m255\u001b[0m\u001b[1;33m)\u001b[0m\u001b[1;33m)\u001b[0m\u001b[1;33m\u001b[0m\u001b[1;33m\u001b[0m\u001b[0m\n\u001b[1;32m---> 12\u001b[1;33m     \u001b[0mscreen\u001b[0m\u001b[1;33m.\u001b[0m\u001b[0mblit\u001b[0m\u001b[1;33m(\u001b[0m\u001b[0mtxt_surface\u001b[0m\u001b[1;33m,\u001b[0m \u001b[1;33m(\u001b[0m\u001b[1;36m455\u001b[0m\u001b[1;33m,\u001b[0m \u001b[1;36m7\u001b[0m\u001b[1;33m)\u001b[0m\u001b[1;33m)\u001b[0m\u001b[1;33m\u001b[0m\u001b[1;33m\u001b[0m\u001b[0m\n\u001b[0m\u001b[0;32m     13\u001b[0m \u001b[1;33m\u001b[0m\u001b[0m\n\u001b[0;32m     14\u001b[0m     \u001b[1;31m#Anzeige der Geschwindigkeit\u001b[0m\u001b[1;33m\u001b[0m\u001b[1;33m\u001b[0m\u001b[0m\n",
      "\u001b[1;31mNameError\u001b[0m: name 'screen' is not defined"
     ]
    }
   ],
   "source": [
    "x = 1000\n",
    "y = 600\n",
    "winsL = 0\n",
    "winsR = 0\n",
    "paraden = 0\n",
    "\n",
    "init()\n",
    "while True:\n",
    "    #Anzeige der Punktzahl\n",
    "    font = pygame.font.Font(None, 32)\n",
    "    txt_surface = font.render(f\"  {winsL}       {winsR}\", True, (0,0,255))\n",
    "    screen.blit(txt_surface, (455, 7))\n",
    "\n",
    "    #Anzeige der Geschwindigkeit\n",
    "    fontSpeed = pygame.font.Font(None, 26)\n",
    "    txt_surfaceSpeed = fontSpeed.render(f\"Geschwindigkeit: {speedBall}\", True, (255, 255, 0))\n",
    "    screen.blit(txt_surfaceSpeed, (800, 10))\n",
    "\n",
    "    #Anzeige der Paraden\n",
    "    txt_surfaceSpeed = fontSpeed.render(f\"Paraden: {paraden}\", True, (255, 255, 0))\n",
    "    screen.blit(txt_surfaceSpeed, (20, 10))\n",
    "\n",
    "    pygame.display.flip()\n",
    "    running = True\n",
    "    pygame.time.wait(1000)\n",
    "\n",
    "    #Veränderung der Ballgeschwindigkeit ist in jeder Runde anders\n",
    "    tempowechsel = random.randint(500, 1500)\n",
    "    while running:\n",
    "        #Spiel wird nach gewisser Zeit schwerer (Ball wird schneller)\n",
    "        if rounds % tempowechsel == 0:\n",
    "            speedBall+=1\n",
    "            aktualisiere()\n",
    "        rounds+=1\n",
    "\n",
    "        for event in pygame.event.get():\n",
    "            if event.type == pygame.QUIT:\n",
    "                sys.exit()\n",
    "            if event.type == pygame.KEYDOWN:\n",
    "                if event.key == pygame.K_w:\n",
    "                    speed1 = -6\n",
    "                if event.key == pygame.K_s:\n",
    "                    speed1 = 6\n",
    "                if event.key == pygame.K_UP:\n",
    "                    speed2 = -6\n",
    "                if event.key == pygame.K_DOWN:\n",
    "                    speed2 = 6\n",
    "                if event.key == pygame.K_SPACE:\n",
    "                    input_boxPause = pygame.Rect(450, 284, 100, 32)\n",
    "                    txt_surfacePause = font.render(\"  Pause  \", True, (255, 255, 0))\n",
    "                    screen.blit(txt_surfacePause, (input_boxPause.x + 5, input_boxPause.y + 5))\n",
    "                    pygame.draw.rect(screen, (255, 255, 0), input_boxPause, 2)\n",
    "                    pygame.display.flip()\n",
    "                    pause=True\n",
    "                    while pause:\n",
    "                        for subEvent in pygame.event.get():\n",
    "                            if subEvent.type == pygame.QUIT:\n",
    "                                sys.exit()\n",
    "                            if subEvent.type == pygame.KEYDOWN:\n",
    "                                if subEvent.key == pygame.K_SPACE:\n",
    "                                    #wegen Blit -> Fenster komplett neu malen\n",
    "                                    aktualisiere()\n",
    "                                    pause=False\n",
    "\n",
    "        deleteRec(screen)\n",
    "        if yrect1 + speed1 >=40 and yrect1 + speed1 <=500:\n",
    "            yrect1+=speed1\n",
    "        if yrect2 + speed2 >= 40 and yrect2 + speed2 <= 500:\n",
    "            yrect2+=speed2\n",
    "        drawRec(screen)\n",
    "\n",
    "        direction = moveBall()\n",
    "        if direction[0][0]==\"x\":\n",
    "            if direction[0][1]==\"r\":\n",
    "                winsR+=1\n",
    "            else:\n",
    "                winsL+=1\n",
    "            running=False\n",
    "            print(f\"Links: {winsL} || Rechts: {winsR}\")\n",
    "        pygame.display.flip()\n",
    "        pygame.time.wait(8)"
   ]
  },
  {
   "cell_type": "code",
   "execution_count": null,
   "id": "a36796d9",
   "metadata": {},
   "outputs": [],
   "source": []
  }
 ],
 "metadata": {
  "kernelspec": {
   "display_name": "Python 3 (ipykernel)",
   "language": "python",
   "name": "python3"
  },
  "language_info": {
   "codemirror_mode": {
    "name": "ipython",
    "version": 3
   },
   "file_extension": ".py",
   "mimetype": "text/x-python",
   "name": "python",
   "nbconvert_exporter": "python",
   "pygments_lexer": "ipython3",
   "version": "3.9.7"
  }
 },
 "nbformat": 4,
 "nbformat_minor": 5
}
